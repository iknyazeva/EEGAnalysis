{
 "cells": [
  {
   "cell_type": "code",
   "execution_count": 1,
   "id": "d7566fcb-ce0b-471f-bf3d-ce65e5cc47de",
   "metadata": {},
   "outputs": [
    {
     "name": "stderr",
     "output_type": "stream",
     "text": [
      "/Users/irinaknyazeva/opt/anaconda3/envs/pymc3/lib/python3.9/site-packages/outdated/utils.py:14: OutdatedPackageWarning: The package outdated is out of date. Your version is 0.2.1, the latest is 0.2.2.\n",
      "Set the environment variable OUTDATED_IGNORE=1 to disable these warnings.\n",
      "  return warn(\n",
      "/Users/irinaknyazeva/opt/anaconda3/envs/pymc3/lib/python3.9/site-packages/outdated/utils.py:14: OutdatedPackageWarning: The package pingouin is out of date. Your version is 0.5.1, the latest is 0.5.2.\n",
      "Set the environment variable OUTDATED_IGNORE=1 to disable these warnings.\n",
      "  return warn(\n"
     ]
    }
   ],
   "source": [
    "from pingouin import power_ttest"
   ]
  },
  {
   "cell_type": "code",
   "execution_count": 12,
   "id": "35678ac3-4114-45bd-a40e-df551c935261",
   "metadata": {},
   "outputs": [
    {
     "data": {
      "text/plain": [
       "896"
      ]
     },
     "execution_count": 12,
     "metadata": {},
     "output_type": "execute_result"
    }
   ],
   "source": [
    "7*128"
   ]
  },
  {
   "cell_type": "code",
   "execution_count": 3,
   "id": "fa3c6f79-3539-43ec-96fd-49872b8e06cf",
   "metadata": {},
   "outputs": [
    {
     "data": {
      "text/plain": [
       "4.177109440267335e-05"
      ]
     },
     "execution_count": 3,
     "metadata": {},
     "output_type": "execute_result"
    }
   ],
   "source": [
    "0.05/1197"
   ]
  },
  {
   "cell_type": "code",
   "execution_count": 4,
   "id": "e0b6fa83-9a82-4f4c-862f-9d74e2eb1dcf",
   "metadata": {},
   "outputs": [
    {
     "data": {
      "text/plain": [
       "5e-05"
      ]
     },
     "execution_count": 4,
     "metadata": {},
     "output_type": "execute_result"
    }
   ],
   "source": [
    "5e-5"
   ]
  },
  {
   "cell_type": "code",
   "execution_count": 11,
   "id": "94ba9404-2601-439f-bf8d-ea0e0869585e",
   "metadata": {},
   "outputs": [
    {
     "name": "stdout",
     "output_type": "stream",
     "text": [
      "n: 370.5654\n"
     ]
    }
   ],
   "source": [
    "print('n: %.4f' % power_ttest(d=0.3, alpha=1e-5, power=0.90, contrast = 'one-sample'))"
   ]
  },
  {
   "cell_type": "code",
   "execution_count": 24,
   "id": "64f3431a-db74-48e8-b499-47f6c0b78a00",
   "metadata": {},
   "outputs": [
    {
     "name": "stdout",
     "output_type": "stream",
     "text": [
      "power: 0.0005\n"
     ]
    }
   ],
   "source": [
    "print('power: %.4f' % power_ttest( d=0.1, n=40, alpha=0.0001, contrast = 'one-sample'))"
   ]
  },
  {
   "cell_type": "code",
   "execution_count": null,
   "id": "1cc37b93-af67-4528-b014-1e4f62168118",
   "metadata": {},
   "outputs": [],
   "source": []
  }
 ],
 "metadata": {
  "kernelspec": {
   "display_name": "Python [conda env:pymc3]",
   "language": "python",
   "name": "conda-env-pymc3-py"
  },
  "language_info": {
   "codemirror_mode": {
    "name": "ipython",
    "version": 3
   },
   "file_extension": ".py",
   "mimetype": "text/x-python",
   "name": "python",
   "nbconvert_exporter": "python",
   "pygments_lexer": "ipython3",
   "version": "3.9.10"
  }
 },
 "nbformat": 4,
 "nbformat_minor": 5
}
